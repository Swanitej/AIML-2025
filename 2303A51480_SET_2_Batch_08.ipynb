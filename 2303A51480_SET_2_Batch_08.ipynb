{
  "nbformat": 4,
  "nbformat_minor": 0,
  "metadata": {
    "colab": {
      "provenance": [],
      "authorship_tag": "ABX9TyNagIlzggvIgCZflpO+u0dG",
      "include_colab_link": true
    },
    "kernelspec": {
      "name": "python3",
      "display_name": "Python 3"
    },
    "language_info": {
      "name": "python"
    }
  },
  "cells": [
    {
      "cell_type": "markdown",
      "metadata": {
        "id": "view-in-github",
        "colab_type": "text"
      },
      "source": [
        "<a href=\"https://colab.research.google.com/github/Swanitej/AIML-2025/blob/main/2303A51480_SET_2_Batch_08.ipynb\" target=\"_parent\"><img src=\"https://colab.research.google.com/assets/colab-badge.svg\" alt=\"Open In Colab\"/></a>"
      ]
    },
    {
      "cell_type": "code",
      "execution_count": null,
      "metadata": {
        "id": "E0GZIz4OjxNa"
      },
      "outputs": [],
      "source": []
    },
    {
      "cell_type": "markdown",
      "source": [
        "Prediction of Absenteeism of Employees in Courier Company\n",
        "\n",
        "\n",
        "\n",
        "1.Identify the top 5 rteasons opf absentteeism at work.\n",
        "\n",
        "2.Identify the Day of week with most abesenteeism at work.  \n",
        "\n",
        "3.Find the max and min age of the employees of Company.   \n",
        "\n",
        "4.Name the seasons when absenteesims was most.\n",
        "\n",
        "5.Identify the highest educational Qualification of the employees.\n",
        "\n",
        "6.Apply either Classification Model or Clustering Model to evaluate the dataset.\n",
        "\n",
        "\n",
        "\n",
        "\n",
        "\n",
        "\n",
        "\n",
        "\n",
        "\n",
        "\n",
        "\n",
        "\n"
      ],
      "metadata": {
        "id": "jmfgntdSjzyV"
      }
    },
    {
      "cell_type": "code",
      "source": [
        "pip install ucimlrepo"
      ],
      "metadata": {
        "colab": {
          "base_uri": "https://localhost:8080/"
        },
        "id": "i-gU5noej4aS",
        "outputId": "0f321657-c61f-491b-9d9c-b6199aa046b5"
      },
      "execution_count": 1,
      "outputs": [
        {
          "output_type": "stream",
          "name": "stdout",
          "text": [
            "Collecting ucimlrepo\n",
            "  Downloading ucimlrepo-0.0.7-py3-none-any.whl.metadata (5.5 kB)\n",
            "Requirement already satisfied: pandas>=1.0.0 in /usr/local/lib/python3.10/dist-packages (from ucimlrepo) (2.2.2)\n",
            "Requirement already satisfied: certifi>=2020.12.5 in /usr/local/lib/python3.10/dist-packages (from ucimlrepo) (2024.8.30)\n",
            "Requirement already satisfied: numpy>=1.22.4 in /usr/local/lib/python3.10/dist-packages (from pandas>=1.0.0->ucimlrepo) (1.26.4)\n",
            "Requirement already satisfied: python-dateutil>=2.8.2 in /usr/local/lib/python3.10/dist-packages (from pandas>=1.0.0->ucimlrepo) (2.8.2)\n",
            "Requirement already satisfied: pytz>=2020.1 in /usr/local/lib/python3.10/dist-packages (from pandas>=1.0.0->ucimlrepo) (2024.2)\n",
            "Requirement already satisfied: tzdata>=2022.7 in /usr/local/lib/python3.10/dist-packages (from pandas>=1.0.0->ucimlrepo) (2024.2)\n",
            "Requirement already satisfied: six>=1.5 in /usr/local/lib/python3.10/dist-packages (from python-dateutil>=2.8.2->pandas>=1.0.0->ucimlrepo) (1.16.0)\n",
            "Downloading ucimlrepo-0.0.7-py3-none-any.whl (8.0 kB)\n",
            "Installing collected packages: ucimlrepo\n",
            "Successfully installed ucimlrepo-0.0.7\n"
          ]
        }
      ]
    },
    {
      "cell_type": "code",
      "source": [
        "from ucimlrepo import fetch_ucirepo\n",
        "\n",
        "absenteeism_at_work = fetch_ucirepo(id=445)\n",
        "\n",
        "\n",
        "X = absenteeism_at_work.data.features\n",
        "y = absenteeism_at_work.data.targets\n",
        "\n",
        "print(absenteeism_at_work.metadata)\n",
        "\n",
        "\n",
        "print(absenteeism_at_work.variables)\n"
      ],
      "metadata": {
        "colab": {
          "base_uri": "https://localhost:8080/"
        },
        "id": "ylZ00KcXj8vQ",
        "outputId": "e6e7a4ed-cbb4-4f03-b28f-af3e12f9c5b8"
      },
      "execution_count": 2,
      "outputs": [
        {
          "output_type": "stream",
          "name": "stdout",
          "text": [
            "{'uci_id': 445, 'name': 'Absenteeism at work', 'repository_url': 'https://archive.ics.uci.edu/dataset/445/absenteeism+at+work', 'data_url': 'https://archive.ics.uci.edu/static/public/445/data.csv', 'abstract': 'The database was created with records of absenteeism at work from July 2007 to July 2010 at a courier company in Brazil.', 'area': 'Business', 'tasks': ['Classification', 'Clustering'], 'characteristics': ['Multivariate', 'Time-Series'], 'num_instances': 740, 'num_features': 19, 'feature_types': ['Integer', 'Real'], 'demographics': ['Age', 'Education Level'], 'target_col': ['Absenteeism time in hours'], 'index_col': ['ID'], 'has_missing_values': 'no', 'missing_values_symbol': None, 'year_of_dataset_creation': 2012, 'last_updated': 'Fri Mar 08 2024', 'dataset_doi': '10.24432/C5X882', 'creators': ['Andrea Martiniano', 'Ricardo Ferreira'], 'intro_paper': {'ID': 414, 'type': 'NATIVE', 'title': 'Application of a neuro fuzzy network in prediction of absenteeism at work', 'authors': 'Andréa Martiniano, R. P. Ferreira, R. Sassi, C. Affonso', 'venue': 'Iberian Conference on Information Systems and Technologies', 'year': 2012, 'journal': None, 'DOI': None, 'URL': 'https://www.semanticscholar.org/paper/Application-of-a-neuro-fuzzy-network-in-prediction-Martiniano-Ferreira/036b8cbfba37eded57ccfbd2243fd4426bdc73bd', 'sha': None, 'corpus': None, 'arxiv': None, 'mag': None, 'acl': None, 'pmid': None, 'pmcid': None}, 'additional_info': {'summary': 'The data set allows for several new combinations of attributes and attribute exclusions, or the modification of the attribute type (categorical, integer, or real) depending on the purpose of the research.The data set (Absenteeism at work - Part I) was used in academic research at the Universidade Nove de Julho - Postgraduate Program in Informatics and Knowledge Management.', 'purpose': None, 'funded_by': None, 'instances_represent': None, 'recommended_data_splits': None, 'sensitive_data': None, 'preprocessing_description': None, 'variable_info': '1. Individual identification (ID)\\r\\n2. Reason for absence (ICD).\\r\\nAbsences attested by the International Code of Diseases (ICD) stratified into 21 categories (I to XXI) as follows:\\r\\n\\r\\nI Certain infectious and parasitic diseases  \\r\\nII Neoplasms  \\r\\nIII Diseases of the blood and blood-forming organs and certain disorders involving the immune mechanism  \\r\\nIV Endocrine, nutritional and metabolic diseases  \\r\\nV Mental and behavioural disorders  \\r\\nVI Diseases of the nervous system  \\r\\nVII Diseases of the eye and adnexa  \\r\\nVIII Diseases of the ear and mastoid process  \\r\\nIX Diseases of the circulatory system  \\r\\nX Diseases of the respiratory system  \\r\\nXI Diseases of the digestive system  \\r\\nXII Diseases of the skin and subcutaneous tissue  \\r\\nXIII Diseases of the musculoskeletal system and connective tissue  \\r\\nXIV Diseases of the genitourinary system  \\r\\nXV Pregnancy, childbirth and the puerperium  \\r\\nXVI Certain conditions originating in the perinatal period  \\r\\nXVII Congenital malformations, deformations and chromosomal abnormalities  \\r\\nXVIII Symptoms, signs and abnormal clinical and laboratory findings, not elsewhere classified  \\r\\nXIX Injury, poisoning and certain other consequences of external causes  \\r\\nXX External causes of morbidity and mortality  \\r\\nXXI Factors influencing health status and contact with health services.\\r\\n\\r\\nAnd 7 categories without (CID) patient follow-up (22), medical consultation (23), blood donation (24), laboratory examination (25), unjustified absence (26), physiotherapy (27), dental consultation (28).\\r\\n3. Month of absence\\r\\n4. Day of the week (Monday (2), Tuesday (3), Wednesday (4), Thursday (5), Friday (6))\\r\\n5. Seasons (summer (1), autumn (2), winter (3), spring (4))\\r\\n6. Transportation expense\\r\\n7. Distance from Residence to Work (kilometers)\\r\\n8. Service time\\r\\n9. Age\\r\\n10. Work load Average/day \\r\\n11. Hit target\\r\\n12. Disciplinary failure (yes=1; no=0)\\r\\n13. Education (high school (1), graduate (2), postgraduate (3), master and doctor (4))\\r\\n14. Son (number of children)\\r\\n15. Social drinker (yes=1; no=0)\\r\\n16. Social smoker (yes=1; no=0)\\r\\n17. Pet (number of pet)\\r\\n18. Weight\\r\\n19. Height\\r\\n20. Body mass index\\r\\n21. Absenteeism time in hours (target)\\r\\n\\r\\n.arff header for Weka: \\r\\n\\r\\n@relation Absenteeism_at_work\\r\\n\\r\\n@attribute ID {31.0, 27.0, 19.0, 30.0, 7.0, 20.0, 24.0, 32.0, 3.0, 33.0, 26.0, 29.0, 18.0, 25.0, 17.0, 14.0, 16.0, 23.0, 2.0, 21.0, 36.0, 15.0, 22.0, 5.0, 12.0, 9.0, 6.0, 34.0, 10.0, 28.0, 13.0, 11.0, 1.0, 4.0, 8.0, 35.0}\\r\\n@attribute Reason_for_absence {17.0, 3.0, 15.0, 4.0, 21.0, 2.0, 9.0, 24.0, 18.0, 1.0, 12.0, 5.0, 16.0, 7.0, 27.0, 25.0, 8.0, 10.0, 26.0, 19.0, 28.0, 6.0, 23.0, 22.0, 13.0, 14.0, 11.0, 0.0}\\r\\n@attribute Month_of_absence REAL\\r\\n@attribute Day_of_the_week {5.0, 2.0, 3.0, 4.0, 6.0}\\r\\n@attribute Seasons {4.0, 1.0, 2.0, 3.0}\\r\\n@attribute Transportation_expense REAL\\r\\n@attribute Distance_from_Residence_to_Work REAL\\r\\n@attribute Service_time INTEGER\\r\\n@attribute Age INTEGER\\r\\n@attribute Work_load_Average/day_ REAL\\r\\n@attribute Hit_target REAL\\r\\n@attribute Disciplinary_failure {1.0, 0.0}\\r\\n@attribute Education REAL\\r\\n@attribute Son REAL\\r\\n@attribute Social_drinker {1.0, 0.0}\\r\\n@attribute Social_smoker {1.0, 0.0}\\r\\n@attribute Pet REAL\\r\\n@attribute Weight REAL\\r\\n@attribute Height REAL\\r\\n@attribute Body_mass_index REAL\\r\\n@attribute Absenteeism_time_in_hours REAL', 'citation': None}}\n",
            "                               name     role        type      demographic  \\\n",
            "0                                ID       ID     Integer             None   \n",
            "1                Reason for absence  Feature     Integer             None   \n",
            "2                  Month of absence  Feature     Integer             None   \n",
            "3                   Day of the week  Feature     Integer             None   \n",
            "4                           Seasons  Feature     Integer             None   \n",
            "5            Transportation expense  Feature     Integer             None   \n",
            "6   Distance from Residence to Work  Feature     Integer             None   \n",
            "7                      Service time  Feature     Integer             None   \n",
            "8                               Age  Feature     Integer              Age   \n",
            "9            Work load Average/day   Feature  Continuous             None   \n",
            "10                       Hit target  Feature     Integer             None   \n",
            "11             Disciplinary failure  Feature     Integer             None   \n",
            "12                        Education  Feature     Integer  Education Level   \n",
            "13                              Son  Feature     Integer             None   \n",
            "14                   Social drinker  Feature     Integer             None   \n",
            "15                    Social smoker  Feature     Integer             None   \n",
            "16                              Pet  Feature     Integer             None   \n",
            "17                           Weight  Feature     Integer             None   \n",
            "18                           Height  Feature     Integer             None   \n",
            "19                  Body mass index  Feature     Integer             None   \n",
            "20        Absenteeism time in hours   Target     Integer             None   \n",
            "\n",
            "   description units missing_values  \n",
            "0         None  None             no  \n",
            "1         None  None             no  \n",
            "2         None  None             no  \n",
            "3         None  None             no  \n",
            "4         None  None             no  \n",
            "5         None  None             no  \n",
            "6         None  None             no  \n",
            "7         None  None             no  \n",
            "8         None  None             no  \n",
            "9         None  None             no  \n",
            "10        None  None             no  \n",
            "11        None  None             no  \n",
            "12        None  None             no  \n",
            "13        None  None             no  \n",
            "14        None  None             no  \n",
            "15        None  None             no  \n",
            "16        None  None             no  \n",
            "17        None  None             no  \n",
            "18        None  None             no  \n",
            "19        None  None             no  \n",
            "20        None  None             no  \n"
          ]
        }
      ]
    },
    {
      "cell_type": "code",
      "source": [
        "\n",
        "from ucimlrepo import fetch_ucirepo\n",
        "absenteeism_at_work = fetch_ucirepo(id=445)\n",
        "df = absenteeism_at_work.data.original\n",
        "df.columns = absenteeism_at_work.variables.name\n",
        "df.head()"
      ],
      "metadata": {
        "colab": {
          "base_uri": "https://localhost:8080/",
          "height": 307
        },
        "id": "zXablsB4kDFD",
        "outputId": "b43fcf69-112a-42be-e0ac-14659afca367"
      },
      "execution_count": 3,
      "outputs": [
        {
          "output_type": "execute_result",
          "data": {
            "text/plain": [
              "name  ID  Reason for absence  Month of absence  Day of the week  Seasons  \\\n",
              "0     11                  26                 7                3        1   \n",
              "1     36                   0                 7                3        1   \n",
              "2      3                  23                 7                4        1   \n",
              "3      7                   7                 7                5        1   \n",
              "4     11                  23                 7                5        1   \n",
              "\n",
              "name  Transportation expense  Distance from Residence to Work  Service time  \\\n",
              "0                        289                               36            13   \n",
              "1                        118                               13            18   \n",
              "2                        179                               51            18   \n",
              "3                        279                                5            14   \n",
              "4                        289                               36            13   \n",
              "\n",
              "name  Age  Work load Average/day   ...  Disciplinary failure  Education  Son  \\\n",
              "0      33                 239.554  ...                     0          1    2   \n",
              "1      50                 239.554  ...                     1          1    1   \n",
              "2      38                 239.554  ...                     0          1    0   \n",
              "3      39                 239.554  ...                     0          1    2   \n",
              "4      33                 239.554  ...                     0          1    2   \n",
              "\n",
              "name  Social drinker  Social smoker  Pet  Weight  Height  Body mass index  \\\n",
              "0                  1              0    1      90     172               30   \n",
              "1                  1              0    0      98     178               31   \n",
              "2                  1              0    0      89     170               31   \n",
              "3                  1              1    0      68     168               24   \n",
              "4                  1              0    1      90     172               30   \n",
              "\n",
              "name  Absenteeism time in hours  \n",
              "0                             4  \n",
              "1                             0  \n",
              "2                             2  \n",
              "3                             4  \n",
              "4                             2  \n",
              "\n",
              "[5 rows x 21 columns]"
            ],
            "text/html": [
              "\n",
              "  <div id=\"df-ef391c80-e097-4641-88f6-512de083abab\" class=\"colab-df-container\">\n",
              "    <div>\n",
              "<style scoped>\n",
              "    .dataframe tbody tr th:only-of-type {\n",
              "        vertical-align: middle;\n",
              "    }\n",
              "\n",
              "    .dataframe tbody tr th {\n",
              "        vertical-align: top;\n",
              "    }\n",
              "\n",
              "    .dataframe thead th {\n",
              "        text-align: right;\n",
              "    }\n",
              "</style>\n",
              "<table border=\"1\" class=\"dataframe\">\n",
              "  <thead>\n",
              "    <tr style=\"text-align: right;\">\n",
              "      <th>name</th>\n",
              "      <th>ID</th>\n",
              "      <th>Reason for absence</th>\n",
              "      <th>Month of absence</th>\n",
              "      <th>Day of the week</th>\n",
              "      <th>Seasons</th>\n",
              "      <th>Transportation expense</th>\n",
              "      <th>Distance from Residence to Work</th>\n",
              "      <th>Service time</th>\n",
              "      <th>Age</th>\n",
              "      <th>Work load Average/day</th>\n",
              "      <th>...</th>\n",
              "      <th>Disciplinary failure</th>\n",
              "      <th>Education</th>\n",
              "      <th>Son</th>\n",
              "      <th>Social drinker</th>\n",
              "      <th>Social smoker</th>\n",
              "      <th>Pet</th>\n",
              "      <th>Weight</th>\n",
              "      <th>Height</th>\n",
              "      <th>Body mass index</th>\n",
              "      <th>Absenteeism time in hours</th>\n",
              "    </tr>\n",
              "  </thead>\n",
              "  <tbody>\n",
              "    <tr>\n",
              "      <th>0</th>\n",
              "      <td>11</td>\n",
              "      <td>26</td>\n",
              "      <td>7</td>\n",
              "      <td>3</td>\n",
              "      <td>1</td>\n",
              "      <td>289</td>\n",
              "      <td>36</td>\n",
              "      <td>13</td>\n",
              "      <td>33</td>\n",
              "      <td>239.554</td>\n",
              "      <td>...</td>\n",
              "      <td>0</td>\n",
              "      <td>1</td>\n",
              "      <td>2</td>\n",
              "      <td>1</td>\n",
              "      <td>0</td>\n",
              "      <td>1</td>\n",
              "      <td>90</td>\n",
              "      <td>172</td>\n",
              "      <td>30</td>\n",
              "      <td>4</td>\n",
              "    </tr>\n",
              "    <tr>\n",
              "      <th>1</th>\n",
              "      <td>36</td>\n",
              "      <td>0</td>\n",
              "      <td>7</td>\n",
              "      <td>3</td>\n",
              "      <td>1</td>\n",
              "      <td>118</td>\n",
              "      <td>13</td>\n",
              "      <td>18</td>\n",
              "      <td>50</td>\n",
              "      <td>239.554</td>\n",
              "      <td>...</td>\n",
              "      <td>1</td>\n",
              "      <td>1</td>\n",
              "      <td>1</td>\n",
              "      <td>1</td>\n",
              "      <td>0</td>\n",
              "      <td>0</td>\n",
              "      <td>98</td>\n",
              "      <td>178</td>\n",
              "      <td>31</td>\n",
              "      <td>0</td>\n",
              "    </tr>\n",
              "    <tr>\n",
              "      <th>2</th>\n",
              "      <td>3</td>\n",
              "      <td>23</td>\n",
              "      <td>7</td>\n",
              "      <td>4</td>\n",
              "      <td>1</td>\n",
              "      <td>179</td>\n",
              "      <td>51</td>\n",
              "      <td>18</td>\n",
              "      <td>38</td>\n",
              "      <td>239.554</td>\n",
              "      <td>...</td>\n",
              "      <td>0</td>\n",
              "      <td>1</td>\n",
              "      <td>0</td>\n",
              "      <td>1</td>\n",
              "      <td>0</td>\n",
              "      <td>0</td>\n",
              "      <td>89</td>\n",
              "      <td>170</td>\n",
              "      <td>31</td>\n",
              "      <td>2</td>\n",
              "    </tr>\n",
              "    <tr>\n",
              "      <th>3</th>\n",
              "      <td>7</td>\n",
              "      <td>7</td>\n",
              "      <td>7</td>\n",
              "      <td>5</td>\n",
              "      <td>1</td>\n",
              "      <td>279</td>\n",
              "      <td>5</td>\n",
              "      <td>14</td>\n",
              "      <td>39</td>\n",
              "      <td>239.554</td>\n",
              "      <td>...</td>\n",
              "      <td>0</td>\n",
              "      <td>1</td>\n",
              "      <td>2</td>\n",
              "      <td>1</td>\n",
              "      <td>1</td>\n",
              "      <td>0</td>\n",
              "      <td>68</td>\n",
              "      <td>168</td>\n",
              "      <td>24</td>\n",
              "      <td>4</td>\n",
              "    </tr>\n",
              "    <tr>\n",
              "      <th>4</th>\n",
              "      <td>11</td>\n",
              "      <td>23</td>\n",
              "      <td>7</td>\n",
              "      <td>5</td>\n",
              "      <td>1</td>\n",
              "      <td>289</td>\n",
              "      <td>36</td>\n",
              "      <td>13</td>\n",
              "      <td>33</td>\n",
              "      <td>239.554</td>\n",
              "      <td>...</td>\n",
              "      <td>0</td>\n",
              "      <td>1</td>\n",
              "      <td>2</td>\n",
              "      <td>1</td>\n",
              "      <td>0</td>\n",
              "      <td>1</td>\n",
              "      <td>90</td>\n",
              "      <td>172</td>\n",
              "      <td>30</td>\n",
              "      <td>2</td>\n",
              "    </tr>\n",
              "  </tbody>\n",
              "</table>\n",
              "<p>5 rows × 21 columns</p>\n",
              "</div>\n",
              "    <div class=\"colab-df-buttons\">\n",
              "\n",
              "  <div class=\"colab-df-container\">\n",
              "    <button class=\"colab-df-convert\" onclick=\"convertToInteractive('df-ef391c80-e097-4641-88f6-512de083abab')\"\n",
              "            title=\"Convert this dataframe to an interactive table.\"\n",
              "            style=\"display:none;\">\n",
              "\n",
              "  <svg xmlns=\"http://www.w3.org/2000/svg\" height=\"24px\" viewBox=\"0 -960 960 960\">\n",
              "    <path d=\"M120-120v-720h720v720H120Zm60-500h600v-160H180v160Zm220 220h160v-160H400v160Zm0 220h160v-160H400v160ZM180-400h160v-160H180v160Zm440 0h160v-160H620v160ZM180-180h160v-160H180v160Zm440 0h160v-160H620v160Z\"/>\n",
              "  </svg>\n",
              "    </button>\n",
              "\n",
              "  <style>\n",
              "    .colab-df-container {\n",
              "      display:flex;\n",
              "      gap: 12px;\n",
              "    }\n",
              "\n",
              "    .colab-df-convert {\n",
              "      background-color: #E8F0FE;\n",
              "      border: none;\n",
              "      border-radius: 50%;\n",
              "      cursor: pointer;\n",
              "      display: none;\n",
              "      fill: #1967D2;\n",
              "      height: 32px;\n",
              "      padding: 0 0 0 0;\n",
              "      width: 32px;\n",
              "    }\n",
              "\n",
              "    .colab-df-convert:hover {\n",
              "      background-color: #E2EBFA;\n",
              "      box-shadow: 0px 1px 2px rgba(60, 64, 67, 0.3), 0px 1px 3px 1px rgba(60, 64, 67, 0.15);\n",
              "      fill: #174EA6;\n",
              "    }\n",
              "\n",
              "    .colab-df-buttons div {\n",
              "      margin-bottom: 4px;\n",
              "    }\n",
              "\n",
              "    [theme=dark] .colab-df-convert {\n",
              "      background-color: #3B4455;\n",
              "      fill: #D2E3FC;\n",
              "    }\n",
              "\n",
              "    [theme=dark] .colab-df-convert:hover {\n",
              "      background-color: #434B5C;\n",
              "      box-shadow: 0px 1px 3px 1px rgba(0, 0, 0, 0.15);\n",
              "      filter: drop-shadow(0px 1px 2px rgba(0, 0, 0, 0.3));\n",
              "      fill: #FFFFFF;\n",
              "    }\n",
              "  </style>\n",
              "\n",
              "    <script>\n",
              "      const buttonEl =\n",
              "        document.querySelector('#df-ef391c80-e097-4641-88f6-512de083abab button.colab-df-convert');\n",
              "      buttonEl.style.display =\n",
              "        google.colab.kernel.accessAllowed ? 'block' : 'none';\n",
              "\n",
              "      async function convertToInteractive(key) {\n",
              "        const element = document.querySelector('#df-ef391c80-e097-4641-88f6-512de083abab');\n",
              "        const dataTable =\n",
              "          await google.colab.kernel.invokeFunction('convertToInteractive',\n",
              "                                                    [key], {});\n",
              "        if (!dataTable) return;\n",
              "\n",
              "        const docLinkHtml = 'Like what you see? Visit the ' +\n",
              "          '<a target=\"_blank\" href=https://colab.research.google.com/notebooks/data_table.ipynb>data table notebook</a>'\n",
              "          + ' to learn more about interactive tables.';\n",
              "        element.innerHTML = '';\n",
              "        dataTable['output_type'] = 'display_data';\n",
              "        await google.colab.output.renderOutput(dataTable, element);\n",
              "        const docLink = document.createElement('div');\n",
              "        docLink.innerHTML = docLinkHtml;\n",
              "        element.appendChild(docLink);\n",
              "      }\n",
              "    </script>\n",
              "  </div>\n",
              "\n",
              "\n",
              "<div id=\"df-90932feb-c81b-41f4-8651-d3a601b4ed66\">\n",
              "  <button class=\"colab-df-quickchart\" onclick=\"quickchart('df-90932feb-c81b-41f4-8651-d3a601b4ed66')\"\n",
              "            title=\"Suggest charts\"\n",
              "            style=\"display:none;\">\n",
              "\n",
              "<svg xmlns=\"http://www.w3.org/2000/svg\" height=\"24px\"viewBox=\"0 0 24 24\"\n",
              "     width=\"24px\">\n",
              "    <g>\n",
              "        <path d=\"M19 3H5c-1.1 0-2 .9-2 2v14c0 1.1.9 2 2 2h14c1.1 0 2-.9 2-2V5c0-1.1-.9-2-2-2zM9 17H7v-7h2v7zm4 0h-2V7h2v10zm4 0h-2v-4h2v4z\"/>\n",
              "    </g>\n",
              "</svg>\n",
              "  </button>\n",
              "\n",
              "<style>\n",
              "  .colab-df-quickchart {\n",
              "      --bg-color: #E8F0FE;\n",
              "      --fill-color: #1967D2;\n",
              "      --hover-bg-color: #E2EBFA;\n",
              "      --hover-fill-color: #174EA6;\n",
              "      --disabled-fill-color: #AAA;\n",
              "      --disabled-bg-color: #DDD;\n",
              "  }\n",
              "\n",
              "  [theme=dark] .colab-df-quickchart {\n",
              "      --bg-color: #3B4455;\n",
              "      --fill-color: #D2E3FC;\n",
              "      --hover-bg-color: #434B5C;\n",
              "      --hover-fill-color: #FFFFFF;\n",
              "      --disabled-bg-color: #3B4455;\n",
              "      --disabled-fill-color: #666;\n",
              "  }\n",
              "\n",
              "  .colab-df-quickchart {\n",
              "    background-color: var(--bg-color);\n",
              "    border: none;\n",
              "    border-radius: 50%;\n",
              "    cursor: pointer;\n",
              "    display: none;\n",
              "    fill: var(--fill-color);\n",
              "    height: 32px;\n",
              "    padding: 0;\n",
              "    width: 32px;\n",
              "  }\n",
              "\n",
              "  .colab-df-quickchart:hover {\n",
              "    background-color: var(--hover-bg-color);\n",
              "    box-shadow: 0 1px 2px rgba(60, 64, 67, 0.3), 0 1px 3px 1px rgba(60, 64, 67, 0.15);\n",
              "    fill: var(--button-hover-fill-color);\n",
              "  }\n",
              "\n",
              "  .colab-df-quickchart-complete:disabled,\n",
              "  .colab-df-quickchart-complete:disabled:hover {\n",
              "    background-color: var(--disabled-bg-color);\n",
              "    fill: var(--disabled-fill-color);\n",
              "    box-shadow: none;\n",
              "  }\n",
              "\n",
              "  .colab-df-spinner {\n",
              "    border: 2px solid var(--fill-color);\n",
              "    border-color: transparent;\n",
              "    border-bottom-color: var(--fill-color);\n",
              "    animation:\n",
              "      spin 1s steps(1) infinite;\n",
              "  }\n",
              "\n",
              "  @keyframes spin {\n",
              "    0% {\n",
              "      border-color: transparent;\n",
              "      border-bottom-color: var(--fill-color);\n",
              "      border-left-color: var(--fill-color);\n",
              "    }\n",
              "    20% {\n",
              "      border-color: transparent;\n",
              "      border-left-color: var(--fill-color);\n",
              "      border-top-color: var(--fill-color);\n",
              "    }\n",
              "    30% {\n",
              "      border-color: transparent;\n",
              "      border-left-color: var(--fill-color);\n",
              "      border-top-color: var(--fill-color);\n",
              "      border-right-color: var(--fill-color);\n",
              "    }\n",
              "    40% {\n",
              "      border-color: transparent;\n",
              "      border-right-color: var(--fill-color);\n",
              "      border-top-color: var(--fill-color);\n",
              "    }\n",
              "    60% {\n",
              "      border-color: transparent;\n",
              "      border-right-color: var(--fill-color);\n",
              "    }\n",
              "    80% {\n",
              "      border-color: transparent;\n",
              "      border-right-color: var(--fill-color);\n",
              "      border-bottom-color: var(--fill-color);\n",
              "    }\n",
              "    90% {\n",
              "      border-color: transparent;\n",
              "      border-bottom-color: var(--fill-color);\n",
              "    }\n",
              "  }\n",
              "</style>\n",
              "\n",
              "  <script>\n",
              "    async function quickchart(key) {\n",
              "      const quickchartButtonEl =\n",
              "        document.querySelector('#' + key + ' button');\n",
              "      quickchartButtonEl.disabled = true;  // To prevent multiple clicks.\n",
              "      quickchartButtonEl.classList.add('colab-df-spinner');\n",
              "      try {\n",
              "        const charts = await google.colab.kernel.invokeFunction(\n",
              "            'suggestCharts', [key], {});\n",
              "      } catch (error) {\n",
              "        console.error('Error during call to suggestCharts:', error);\n",
              "      }\n",
              "      quickchartButtonEl.classList.remove('colab-df-spinner');\n",
              "      quickchartButtonEl.classList.add('colab-df-quickchart-complete');\n",
              "    }\n",
              "    (() => {\n",
              "      let quickchartButtonEl =\n",
              "        document.querySelector('#df-90932feb-c81b-41f4-8651-d3a601b4ed66 button');\n",
              "      quickchartButtonEl.style.display =\n",
              "        google.colab.kernel.accessAllowed ? 'block' : 'none';\n",
              "    })();\n",
              "  </script>\n",
              "</div>\n",
              "\n",
              "    </div>\n",
              "  </div>\n"
            ],
            "application/vnd.google.colaboratory.intrinsic+json": {
              "type": "dataframe",
              "variable_name": "df"
            }
          },
          "metadata": {},
          "execution_count": 3
        }
      ]
    },
    {
      "cell_type": "markdown",
      "source": [
        "1.Identify the top 5 rteasons opf absentteeism at work."
      ],
      "metadata": {
        "id": "o2dh9225kGUL"
      }
    },
    {
      "cell_type": "code",
      "source": [
        "\n",
        "top_reasons = df['Reason for absence'].value_counts().head(5)\n",
        "print(\"Top 5 Reasons for Absenteeism:\")\n",
        "print(top_reasons)\n"
      ],
      "metadata": {
        "colab": {
          "base_uri": "https://localhost:8080/"
        },
        "id": "voobqbTGkHFb",
        "outputId": "28d4013b-c525-45e6-f07f-2e815f8a20a4"
      },
      "execution_count": 4,
      "outputs": [
        {
          "output_type": "stream",
          "name": "stdout",
          "text": [
            "Top 5 Reasons for Absenteeism:\n",
            "Reason for absence\n",
            "23    149\n",
            "28    112\n",
            "27     69\n",
            "13     55\n",
            "0      43\n",
            "Name: count, dtype: int64\n"
          ]
        }
      ]
    },
    {
      "cell_type": "markdown",
      "source": [
        "2.Identify the Day of week with most abesenteeism at work."
      ],
      "metadata": {
        "id": "2q-Szd6hkKn7"
      }
    },
    {
      "cell_type": "code",
      "source": [
        "\n",
        "day_of_week_counts = df['Day of the week'].value_counts()\n",
        "day_of_week_map = {2: 'Monday', 3: 'Tuesday', 4: 'Wednesday', 5: 'Thursday', 6: 'Friday'}\n",
        "day_of_week_counts = day_of_week_counts.rename(index=day_of_week_map)\n",
        "print(\"Day of the Week with Most Absenteeism:\")\n",
        "print(day_of_week_counts)\n"
      ],
      "metadata": {
        "colab": {
          "base_uri": "https://localhost:8080/"
        },
        "id": "obVxyMejkLgu",
        "outputId": "39d9a432-f0aa-45ac-f50f-51ee484c194c"
      },
      "execution_count": 5,
      "outputs": [
        {
          "output_type": "stream",
          "name": "stdout",
          "text": [
            "Day of the Week with Most Absenteeism:\n",
            "Day of the week\n",
            "Monday       161\n",
            "Wednesday    156\n",
            "Tuesday      154\n",
            "Friday       144\n",
            "Thursday     125\n",
            "Name: count, dtype: int64\n"
          ]
        }
      ]
    },
    {
      "cell_type": "markdown",
      "source": [
        "3.Find the max and min age of the employees of Company."
      ],
      "metadata": {
        "id": "iChrxf8RkO0G"
      }
    },
    {
      "cell_type": "code",
      "source": [
        "\n",
        "max_age = df['Age'].max()\n",
        "min_age = df['Age'].min()\n",
        "print(f\"Maximum Age: {max_age}\")\n",
        "print(f\"Minimum Age: {min_age}\")\n"
      ],
      "metadata": {
        "colab": {
          "base_uri": "https://localhost:8080/"
        },
        "id": "HkQcfbwYkPf-",
        "outputId": "3ae8c4db-3fe1-497c-f583-23158edd8e29"
      },
      "execution_count": 6,
      "outputs": [
        {
          "output_type": "stream",
          "name": "stdout",
          "text": [
            "Maximum Age: 58\n",
            "Minimum Age: 27\n"
          ]
        }
      ]
    },
    {
      "cell_type": "markdown",
      "source": [
        "4.Name the seasons when absenteesims was most."
      ],
      "metadata": {
        "id": "2GV4J_iikTsp"
      }
    },
    {
      "cell_type": "code",
      "source": [
        "\n",
        "season_counts = df['Seasons'].value_counts()\n",
        "\n",
        "\n",
        "season_map = {1: 'Summer', 2: 'Autumn', 3: 'Winter', 4: 'Spring'}\n",
        "season_counts = season_counts.rename(index=season_map)\n",
        "\n",
        "print(\"Season with Most Absenteeism:\")\n",
        "print(season_counts)\n"
      ],
      "metadata": {
        "colab": {
          "base_uri": "https://localhost:8080/"
        },
        "id": "TbiubXlfkUi7",
        "outputId": "ebb998a9-752a-4fef-bada-5e58adaedfae"
      },
      "execution_count": 7,
      "outputs": [
        {
          "output_type": "stream",
          "name": "stdout",
          "text": [
            "Season with Most Absenteeism:\n",
            "Seasons\n",
            "Spring    195\n",
            "Autumn    192\n",
            "Winter    183\n",
            "Summer    170\n",
            "Name: count, dtype: int64\n"
          ]
        }
      ]
    },
    {
      "cell_type": "markdown",
      "source": [
        "5.Identify the highest educational Qualification of the employees."
      ],
      "metadata": {
        "id": "vfIAc5yYkYZ0"
      }
    },
    {
      "cell_type": "code",
      "source": [
        "\n",
        "education_counts = df['Education'].value_counts()\n",
        "\n",
        "\n",
        "education_map = {1: 'High School', 2: 'Graduate', 3: 'Postgraduate', 4: 'Master and Doctor'}\n",
        "education_counts = education_counts.rename(index=education_map)\n",
        "\n",
        "print(\"Distribution of Educational Qualifications of Employees:\")\n",
        "print(education_counts)\n"
      ],
      "metadata": {
        "colab": {
          "base_uri": "https://localhost:8080/"
        },
        "id": "89A-mam0kZXS",
        "outputId": "2f99c2a3-d3ef-4cd3-ae36-bc2f97d2c987"
      },
      "execution_count": 8,
      "outputs": [
        {
          "output_type": "stream",
          "name": "stdout",
          "text": [
            "Distribution of Educational Qualifications of Employees:\n",
            "Education\n",
            "High School          611\n",
            "Postgraduate          79\n",
            "Graduate              46\n",
            "Master and Doctor      4\n",
            "Name: count, dtype: int64\n"
          ]
        }
      ]
    },
    {
      "cell_type": "markdown",
      "source": [
        "6.Apply either Classification Model or Clustering Model to evaluate the dataset."
      ],
      "metadata": {
        "id": "ut3TInVJkdBr"
      }
    },
    {
      "cell_type": "code",
      "source": [
        "from sklearn.model_selection import train_test_split\n",
        "from sklearn.ensemble import RandomForestClassifier\n",
        "from sklearn.metrics import accuracy_score, classification_report\n",
        "\n",
        "\n",
        "X = df[['Age', 'Education', 'Son', 'Social drinker', 'Social smoker', 'Pet', 'Weight', 'Height']]\n",
        "y = df['Absenteeism time in hours']\n",
        "\n",
        "\n",
        "X = X.fillna(X.mean())\n",
        "\n",
        "\n",
        "X_train, X_test, y_train, y_test = train_test_split(X, y, test_size=0.2, random_state=42)\n",
        "\n",
        "\n",
        "clf = RandomForestClassifier(n_estimators=100, random_state=42)\n",
        "clf.fit(X_train, y_train)\n",
        "\n",
        "\n",
        "y_pred = clf.predict(X_test)\n",
        "print(\"Classification Report:\\n\", classification_report(y_test, y_pred))\n"
      ],
      "metadata": {
        "colab": {
          "base_uri": "https://localhost:8080/"
        },
        "id": "3XnbJP4IkduH",
        "outputId": "3f74f1be-d18d-449f-c618-6c8abd123fdb"
      },
      "execution_count": 9,
      "outputs": [
        {
          "output_type": "stream",
          "name": "stdout",
          "text": [
            "Classification Report:\n",
            "               precision    recall  f1-score   support\n",
            "\n",
            "           0       0.00      0.00      0.00        10\n",
            "           1       0.00      0.00      0.00        19\n",
            "           2       0.25      0.30      0.27        33\n",
            "           3       0.17      0.37      0.23        19\n",
            "           4       0.38      0.25      0.30        12\n",
            "           5       0.00      0.00      0.00         2\n",
            "           8       0.44      0.55      0.49        42\n",
            "          16       0.00      0.00      0.00         3\n",
            "          24       0.00      0.00      0.00         4\n",
            "          32       0.00      0.00      0.00         1\n",
            "          40       0.00      0.00      0.00         1\n",
            "          80       0.00      0.00      0.00         2\n",
            "\n",
            "    accuracy                           0.29       148\n",
            "   macro avg       0.10      0.12      0.11       148\n",
            "weighted avg       0.23      0.29      0.25       148\n",
            "\n"
          ]
        },
        {
          "output_type": "stream",
          "name": "stderr",
          "text": [
            "/usr/local/lib/python3.10/dist-packages/sklearn/metrics/_classification.py:1531: UndefinedMetricWarning: Precision is ill-defined and being set to 0.0 in labels with no predicted samples. Use `zero_division` parameter to control this behavior.\n",
            "  _warn_prf(average, modifier, f\"{metric.capitalize()} is\", len(result))\n",
            "/usr/local/lib/python3.10/dist-packages/sklearn/metrics/_classification.py:1531: UndefinedMetricWarning: Precision is ill-defined and being set to 0.0 in labels with no predicted samples. Use `zero_division` parameter to control this behavior.\n",
            "  _warn_prf(average, modifier, f\"{metric.capitalize()} is\", len(result))\n",
            "/usr/local/lib/python3.10/dist-packages/sklearn/metrics/_classification.py:1531: UndefinedMetricWarning: Precision is ill-defined and being set to 0.0 in labels with no predicted samples. Use `zero_division` parameter to control this behavior.\n",
            "  _warn_prf(average, modifier, f\"{metric.capitalize()} is\", len(result))\n"
          ]
        }
      ]
    }
  ]
}